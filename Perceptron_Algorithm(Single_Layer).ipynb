{
  "nbformat": 4,
  "nbformat_minor": 0,
  "metadata": {
    "colab": {
      "name": "Perceptron Algorithm(Single Layer).ipynb",
      "provenance": [],
      "collapsed_sections": [],
      "authorship_tag": "ABX9TyPVQ2KNU62Uqi64SzuHuHct",
      "include_colab_link": true
    },
    "kernelspec": {
      "name": "python3",
      "display_name": "Python 3"
    },
    "language_info": {
      "name": "python"
    }
  },
  "cells": [
    {
      "cell_type": "markdown",
      "metadata": {
        "id": "view-in-github",
        "colab_type": "text"
      },
      "source": [
        "<a href=\"https://colab.research.google.com/github/Jamil2914/CSE-3101-3102-Database-Design/blob/main/Perceptron_Algorithm(Single_Layer).ipynb\" target=\"_parent\"><img src=\"https://colab.research.google.com/assets/colab-badge.svg\" alt=\"Open In Colab\"/></a>"
      ]
    },
    {
      "cell_type": "code",
      "execution_count": 1,
      "metadata": {
        "id": "POlHD5W1Vx1b"
      },
      "outputs": [],
      "source": [
        "import math"
      ]
    },
    {
      "cell_type": "markdown",
      "source": [
        "# **Tasks done in the Cell:**\n",
        "\n",
        "\n",
        "1.   No. of bits taken as input ✅\n",
        "2.   Index Length counted on the basis of total no. of bits to represent $x_{n}$ features. ✅\n",
        "3.   For each index, the actual label is set as **ylabel** where first half of the data table are labelled as 0 and second half as 1. ✅\n",
        "4.   Finally, the corresponding binary values of each index value are represented via a list **xlist** where *(i = ListIndex % No. of bits)* represents $x_{i}$ feature for that index value(This step will be implemented in the following cell)\n",
        "\n",
        "\n",
        "\n"
      ],
      "metadata": {
        "id": "cJOm85aEc9Iz"
      }
    },
    {
      "cell_type": "code",
      "source": [
        "  print(\"Input the no. of bits: \")\n",
        "  No_of_bits = int(input())\n",
        "  indexLength = pow(2,No_of_bits)\n",
        "  ylabel = []\n",
        "  xlist = []\n",
        "  for i in range (indexLength):\n",
        "    if i<(indexLength/2):\n",
        "      ylabel.append(0)\n",
        "    else:\n",
        "      ylabel.append(1)\n",
        "  print(\"ylabel = \",ylabel)\n",
        "  for index in range (indexLength):\n",
        "    convertedTobinary = list(bin(index))\n",
        "    if index<(indexLength/2):\n",
        "      for counter in range((No_of_bits+2)-len(convertedTobinary)):\n",
        "        convertedTobinary.insert(2,'0')\n",
        "        ''.join(convertedTobinary)\n",
        "    print(convertedTobinary)\n",
        "    for i in range (len(convertedTobinary)):\n",
        "      if i>1:\n",
        "        xlist.append(int(convertedTobinary[i]))\n",
        "  print(\"xlist = \",xlist)\n"
      ],
      "metadata": {
        "id": "LJ6VcBg2WasA",
        "colab": {
          "base_uri": "https://localhost:8080/"
        },
        "outputId": "59e62be3-1281-4968-aa5d-97bb5471700e"
      },
      "execution_count": 20,
      "outputs": [
        {
          "output_type": "stream",
          "name": "stdout",
          "text": [
            "Input the no. of bits: \n",
            "3\n",
            "ylabel =  [0, 0, 0, 0, 1, 1, 1, 1]\n",
            "['0', 'b', '0', '0', '0']\n",
            "['0', 'b', '0', '0', '1']\n",
            "['0', 'b', '0', '1', '0']\n",
            "['0', 'b', '0', '1', '1']\n",
            "['0', 'b', '1', '0', '0']\n",
            "['0', 'b', '1', '0', '1']\n",
            "['0', 'b', '1', '1', '0']\n",
            "['0', 'b', '1', '1', '1']\n",
            "xlist =  [0, 0, 0, 0, 0, 1, 0, 1, 0, 0, 1, 1, 1, 0, 0, 1, 0, 1, 1, 1, 0, 1, 1, 1]\n"
          ]
        }
      ]
    },
    {
      "cell_type": "markdown",
      "source": [
        "## **Input of weights and threshold value are taken**:✅"
      ],
      "metadata": {
        "id": "QYJLL4mJ2xuH"
      }
    },
    {
      "cell_type": "code",
      "source": [
        "  weight = []\n",
        "  for i in range (No_of_bits):\n",
        "    print(\"Input weight no.\",i,\":\")\n",
        "    weight.append(float(input()))\n",
        "  print(\"Input the threshold value: \")\n",
        "  threshold = float(input())\n",
        "  "
      ],
      "metadata": {
        "colab": {
          "base_uri": "https://localhost:8080/"
        },
        "id": "zH67UhmJjBwr",
        "outputId": "6f151316-7490-4812-e299-104944e16615"
      },
      "execution_count": 22,
      "outputs": [
        {
          "name": "stdout",
          "output_type": "stream",
          "text": [
            "Input weight no. 0 :\n",
            "0.0\n",
            "Input weight no. 1 :\n",
            "1.0\n",
            "Input weight no. 2 :\n",
            "0.5\n",
            "Input the threshold value: \n",
            "0.5\n"
          ]
        }
      ]
    }
  ]
}